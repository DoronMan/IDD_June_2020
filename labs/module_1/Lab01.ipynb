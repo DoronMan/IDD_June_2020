{
 "cells": [
  {
   "cell_type": "markdown",
   "metadata": {
    "colab_type": "text",
    "id": "7KeNKtNL2Ix-"
   },
   "source": [
    "<div>\n",
    "<img src=https://www.institutedata.com/wp-content/uploads/2019/10/iod_h_tp_primary_c.svg width=\"300\">\n",
    "</div>\n",
    "\n",
    "# Python - Lab 1 \n",
    "\n",
    "## Learning objectives\n",
    "\n",
    "This lab demonstrates examples of: \n",
    "\n",
    "1. Creating and manipulating lists\n",
    "2. For loops\n",
    "3. Importing modules and functions\n",
    "4. Creating dictonaries\n",
    "\n",
    "## Instructions:\n",
    "\n",
    "1. Replace ??? with the appropriate code\n",
    "2. Press Shift + Enter to execute cell\n",
    "\n"
   ]
  },
  {
   "cell_type": "code",
   "execution_count": 5,
   "metadata": {
    "colab": {},
    "colab_type": "code",
    "id": "NaRcNY1l2LbD"
   },
   "outputs": [],
   "source": [
    "# create a list of 10 student (use just first name)\n",
    "students = ['Doron', 'Yash', 'Catriona', 'Andrew', 'Darian', 'James', 'Khong', 'Paul', 'Charlotte', 'Bryce' ]"
   ]
  },
  {
   "cell_type": "code",
   "execution_count": 7,
   "metadata": {
    "colab": {},
    "colab_type": "code",
    "id": "lyMlOgoUZ2R4"
   },
   "outputs": [
    {
     "name": "stdout",
     "output_type": "stream",
     "text": [
      "['Doron', 'Yash', 'Catriona', 'Andrew', 'Darian', 'James', 'Khong', 'Paul', 'Charlotte', 'Bryce']\n"
     ]
    }
   ],
   "source": [
    "# Print the list\n",
    "print(students)"
   ]
  },
  {
   "cell_type": "code",
   "execution_count": 26,
   "metadata": {
    "colab": {},
    "colab_type": "code",
    "id": "LtbLA_T811kr"
   },
   "outputs": [
    {
     "name": "stdout",
     "output_type": "stream",
     "text": [
      "Index 01 Doron\n",
      "Index 02 Yash\n",
      "Index 03 Catriona\n",
      "Index 04 Andrew\n",
      "Index 05 Darian\n",
      "Index 06 James\n",
      "Index 07 Khong\n",
      "Index 08 Paul\n",
      "Index 09 Charlotte\n",
      "Index 10 Bryce\n"
     ]
    }
   ],
   "source": [
    "# print the list of students\n",
    "# in the following format\n",
    "# Index 01 \t Alice\n",
    "# Index 02 \t Bob\n",
    "# Index 03 \t Pradeep\n",
    "for index in range (len(students)):\n",
    "    if index < 9 :\n",
    "        print('Index ' + \"0\" + str(index+1)+ \" \" + students[index])\n",
    "    else :\n",
    "        print('Index ' + str(index+1)+ \" \" + students[index])\n",
    "    "
   ]
  },
  {
   "cell_type": "code",
   "execution_count": 30,
   "metadata": {
    "colab": {},
    "colab_type": "code",
    "id": "OF5sj3CX1lHl"
   },
   "outputs": [
    {
     "name": "stdout",
     "output_type": "stream",
     "text": [
      "Index 10 Bryce\n",
      "Index 09 Charlotte\n",
      "Index 08 Paul\n",
      "Index 07 Khong\n",
      "Index 06 James\n",
      "Index 05 Darian\n",
      "Index 04 Andrew\n",
      "Index 03 Catriona\n",
      "Index 02 Yash\n",
      "Index 01 Doron\n"
     ]
    }
   ],
   "source": [
    "# print the list of students in reverse order one student in a line with its index\n",
    "\n",
    "for  index in reversed (range(len(students))):\n",
    "    if index < 9 :\n",
    "        print('Index ' + \"0\" + str(index+1)+ \" \" + students[index])\n",
    "    else :\n",
    "        print('Index ' + str(index+1)+ \" \" + students[index])"
   ]
  },
  {
   "cell_type": "code",
   "execution_count": 32,
   "metadata": {
    "colab": {},
    "colab_type": "code",
    "id": "eAdtim4G1pyV"
   },
   "outputs": [
    {
     "name": "stdout",
     "output_type": "stream",
     "text": [
      "['Andrew', 'Paul', 'James', 'Yash', 'Khong', 'Doron', 'Charlotte', 'Bryce', 'Darian', 'Catriona']\n"
     ]
    }
   ],
   "source": [
    "# print the student list in random order\n",
    "# hint look up the function random.sample\n",
    "import random\n",
    "random_list = random.sample(students, 10)\n",
    "print(random_list)"
   ]
  },
  {
   "cell_type": "code",
   "execution_count": 28,
   "metadata": {
    "colab": {},
    "colab_type": "code",
    "id": "sfKkL5dt1tqG"
   },
   "outputs": [
    {
     "name": "stdout",
     "output_type": "stream",
     "text": [
      "Students and their marks: \n",
      " {'Doron': 87, 'Yash': 45, 'Catriona': 76, 'Andrew': 64, 'Darian': 66, 'James': 90, 'Khong': 55, 'Paul': 73, 'Charlotte': 69, 'Bryce': 75}\n"
     ]
    },
    {
     "data": {
      "text/plain": [
       "[('James', 90),\n",
       " ('Doron', 87),\n",
       " ('Catriona', 76),\n",
       " ('Bryce', 75),\n",
       " ('Paul', 73),\n",
       " ('Charlotte', 69),\n",
       " ('Darian', 66),\n",
       " ('Andrew', 64),\n",
       " ('Khong', 55),\n",
       " ('Yash', 45)]"
      ]
     },
     "execution_count": 28,
     "metadata": {},
     "output_type": "execute_result"
    }
   ],
   "source": [
    "# list students in order of their exam marks in the following list\n",
    "marks = [87,45,76,64,66,90,55,73,69,75]\n",
    "studentsAndMarks = dict(zip(students, marks))\n",
    "print(f\"Students and their marks: \\n {studentsAndMarks}\")\n",
    "sorted(studentsAndMarks.items(), key= lambda item: item[1],reverse=True)\n"
   ]
  },
  {
   "cell_type": "code",
   "execution_count": null,
   "metadata": {},
   "outputs": [],
   "source": []
  },
  {
   "cell_type": "code",
   "execution_count": null,
   "metadata": {},
   "outputs": [],
   "source": []
  }
 ],
 "metadata": {
  "colab": {
   "collapsed_sections": [],
   "name": "Lab01.ipynb",
   "provenance": []
  },
  "kernelspec": {
   "display_name": "Python 3",
   "language": "python",
   "name": "python3"
  },
  "language_info": {
   "codemirror_mode": {
    "name": "ipython",
    "version": 3
   },
   "file_extension": ".py",
   "mimetype": "text/x-python",
   "name": "python",
   "nbconvert_exporter": "python",
   "pygments_lexer": "ipython3",
   "version": "3.7.6"
  }
 },
 "nbformat": 4,
 "nbformat_minor": 1
}
